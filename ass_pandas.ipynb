{
 "cells": [
  {
   "cell_type": "code",
   "execution_count": 1,
   "id": "dc10c576",
   "metadata": {},
   "outputs": [],
   "source": [
    "import pandas as pd"
   ]
  },
  {
   "cell_type": "markdown",
   "id": "61f38e87",
   "metadata": {},
   "source": [
    "#### 1. Difference between Series, DataFrame and Panel in Pandas. "
   ]
  },
  {
   "cell_type": "code",
   "execution_count": 2,
   "id": "153f62cd",
   "metadata": {},
   "outputs": [],
   "source": [
    "# A pandas dataframe is a two-dimensional data-structure that can be thought of as a spreadsheet. \n",
    "# A dataframe can also be thought of as a combination of two or more series.\n",
    "# DataFrame = pd.DataFrame()\n",
    " \n",
    "# A pandas series is a one-dimensional data structure that comprises of a key-value pair. \n",
    "# It is similar to a python dictionary, except it provides more freedom to manipulate and edit the data.\n",
    "# Series = pd.Series()"
   ]
  },
  {
   "cell_type": "markdown",
   "id": "31e4f33a",
   "metadata": {},
   "source": [
    "#### 2. Write a program to concat two DataFrames. "
   ]
  },
  {
   "cell_type": "code",
   "execution_count": 3,
   "id": "acd3a2c3",
   "metadata": {},
   "outputs": [
    {
     "name": "stdout",
     "output_type": "stream",
     "text": [
      "           0          1\n",
      "0  [4, 5, 4]  [4, 5, 8]\n",
      "1  [4, 5, 4]  [4, 5, 8]\n"
     ]
    }
   ],
   "source": [
    "DataFrame = pd.DataFrame([[[4,5,4],[4,5,8]],[[4,5,4],[4,5,8]]])\n",
    "print(DataFrame)"
   ]
  },
  {
   "cell_type": "markdown",
   "id": "662e73b7",
   "metadata": {},
   "source": [
    "#### 3. Write a program to perform custom addition function on a DataFrame. "
   ]
  },
  {
   "cell_type": "code",
   "execution_count": 4,
   "id": "3f1dee48",
   "metadata": {},
   "outputs": [
    {
     "data": {
      "text/plain": [
       "0     8\n",
       "1    10\n",
       "2    12\n",
       "dtype: int64"
      ]
     },
     "execution_count": 4,
     "metadata": {},
     "output_type": "execute_result"
    }
   ],
   "source": [
    "DataFrame = pd.DataFrame([[4,5,4],[4,5,8]])\n",
    "DataFrame.sum()"
   ]
  },
  {
   "cell_type": "markdown",
   "id": "da5efdef",
   "metadata": {},
   "source": [
    "#### 4. Write a program to merge two DataFrames. "
   ]
  },
  {
   "cell_type": "code",
   "execution_count": 5,
   "id": "1deb648a",
   "metadata": {},
   "outputs": [
    {
     "data": {
      "text/html": [
       "<div>\n",
       "<style scoped>\n",
       "    .dataframe tbody tr th:only-of-type {\n",
       "        vertical-align: middle;\n",
       "    }\n",
       "\n",
       "    .dataframe tbody tr th {\n",
       "        vertical-align: top;\n",
       "    }\n",
       "\n",
       "    .dataframe thead th {\n",
       "        text-align: right;\n",
       "    }\n",
       "</style>\n",
       "<table border=\"1\" class=\"dataframe\">\n",
       "  <thead>\n",
       "    <tr style=\"text-align: right;\">\n",
       "      <th></th>\n",
       "      <th>0</th>\n",
       "      <th>1</th>\n",
       "      <th>2</th>\n",
       "    </tr>\n",
       "  </thead>\n",
       "  <tbody>\n",
       "    <tr>\n",
       "      <th>0</th>\n",
       "      <td>13</td>\n",
       "      <td>14</td>\n",
       "      <td>13</td>\n",
       "    </tr>\n",
       "    <tr>\n",
       "      <th>1</th>\n",
       "      <td>11</td>\n",
       "      <td>12</td>\n",
       "      <td>15</td>\n",
       "    </tr>\n",
       "  </tbody>\n",
       "</table>\n",
       "</div>"
      ],
      "text/plain": [
       "    0   1   2\n",
       "0  13  14  13\n",
       "1  11  12  15"
      ]
     },
     "execution_count": 5,
     "metadata": {},
     "output_type": "execute_result"
    }
   ],
   "source": [
    "DataFrame_1 = pd.DataFrame([[4,5,4],[4,5,8]])\n",
    "DataFrame_2 = pd.DataFrame([[9,9,9],[7,7,7]])\n",
    "DataFrame_1 + DataFrame_2"
   ]
  },
  {
   "cell_type": "markdown",
   "id": "96a2cdd1",
   "metadata": {},
   "source": [
    "#### 5. Write a program to handle missing data from DataFrame. "
   ]
  },
  {
   "cell_type": "code",
   "execution_count": 6,
   "id": "c0a7b6ee",
   "metadata": {},
   "outputs": [
    {
     "name": "stdout",
     "output_type": "stream",
     "text": [
      "   0  1    2    3\n",
      "0  4  5  5.0  4.0\n",
      "1  5  8  NaN  NaN\n",
      "row_0 null values : 0\n",
      "row_1 null values : 0\n",
      "row_2 null values : 1\n",
      "row_3 null values : 1\n",
      "paresetage values of the missing values: 0    0.0\n",
      "1    0.0\n",
      "2    0.0\n",
      "dtype: float64\n"
     ]
    }
   ],
   "source": [
    "DataFram = pd.DataFrame([[4,5,5,4],[5,8]])\n",
    "print(DataFram)\n",
    "# count the missing values in the data set.\n",
    "row_0 = DataFram[0].isnull().sum()\n",
    "print(\"row_0 null values :\",row_0)\n",
    "\n",
    "row_1 = DataFram[1].isnull().sum()\n",
    "print(\"row_1 null values :\",row_1)\n",
    "\n",
    "row_2 = DataFram[2].isnull().sum()\n",
    "print(\"row_2 null values :\",row_2)\n",
    "\n",
    "row_3 = DataFram[3].isnull().sum()\n",
    "print(\"row_3 null values :\",row_3)\n",
    "# find the % of missing values.if the missing values are less then 30% then drop the row othewise put the values.\n",
    "\n",
    "print(\"paresetage values of the missing values:\",(DataFrame.isnull().sum() / len(DataFrame))*100)\n"
   ]
  },
  {
   "cell_type": "markdown",
   "id": "d0524663",
   "metadata": {},
   "source": [
    "#### 6. Write program to create bar chart, box chart, area plot, scatter plot and pie chart from a DataFrame. "
   ]
  },
  {
   "cell_type": "code",
   "execution_count": null,
   "id": "4ac8bcc1",
   "metadata": {},
   "outputs": [],
   "source": []
  },
  {
   "cell_type": "markdown",
   "id": "5195d91d",
   "metadata": {},
   "source": [
    "#### 7. What is the difference between rand() and randn() methods. "
   ]
  },
  {
   "cell_type": "code",
   "execution_count": 7,
   "id": "c6017ff7",
   "metadata": {},
   "outputs": [
    {
     "name": "stdout",
     "output_type": "stream",
     "text": [
      "0.6581353075262841\n",
      "-0.006488174737630561\n"
     ]
    }
   ],
   "source": [
    "# randn generates samples from the normal distribution,\n",
    "import numpy\n",
    "print(numpy. random. rand())\n",
    "# Return a sample from the “standard normal” distribution. \n",
    "print(numpy. random.randn())"
   ]
  },
  {
   "cell_type": "markdown",
   "id": "84e711c9",
   "metadata": {},
   "source": [
    "#### 8. W.A.P two program Which can represent the difference between rand() and randn()."
   ]
  },
  {
   "cell_type": "code",
   "execution_count": 56,
   "id": "c82ee6f1",
   "metadata": {},
   "outputs": [
    {
     "name": "stdout",
     "output_type": "stream",
     "text": [
      "[[-0.59887446 -0.16363433  0.41794803 -1.86847321 -0.67784103  0.56290645\n",
      "  -0.13052025  0.75215227 -0.62152958 -2.18782254]]\n",
      "[[0.14931816 0.44571673 0.10634516 0.87504904 0.14401263 0.07897629\n",
      "  0.79745409 0.51176497 0.70220163 0.09649272]]\n"
     ]
    }
   ],
   "source": [
    "print(numpy. random.randn(1,10))\n",
    "print(numpy. random. rand(1,10))"
   ]
  },
  {
   "cell_type": "markdown",
   "id": "ecd99d72",
   "metadata": {},
   "source": [
    "#### 9. Assume that in data frame we are having the ‘Elbert’ on some position, how you are going to convert that Name To ‘Albert’, Write a Program For that."
   ]
  },
  {
   "cell_type": "code",
   "execution_count": 9,
   "id": "1eea2d6b",
   "metadata": {},
   "outputs": [
    {
     "name": "stdout",
     "output_type": "stream",
     "text": [
      "   Elbert\n",
      "0      45\n",
      "1      10\n",
      "   Albert\n",
      "0      45\n",
      "1      10\n"
     ]
    }
   ],
   "source": [
    "DataFrame = pd.DataFrame({\"Elbert\":[45,10]})\n",
    "print(DataFrame)\n",
    "DataFrame.columns = [\"Albert\"]\n",
    "print(DataFrame)"
   ]
  },
  {
   "cell_type": "markdown",
   "id": "95650df9",
   "metadata": {},
   "source": [
    "#### 10. You are having Some dataFrame of IPL \n",
    "##### Column 1 = Team Name \n",
    "##### Column 2 = Team Captain name\n",
    "##### Column 3 = Total Run by The Team \n",
    "##### Column 4 = Year \n",
    "\n"
   ]
  },
  {
   "cell_type": "code",
   "execution_count": 25,
   "id": "df7206e2",
   "metadata": {},
   "outputs": [],
   "source": [
    "DataFrame = pd.DataFrame({\"Team Name \":[] , \n",
    "                          \"Team Captain name\":[],\n",
    "                         \"Total Run by The Team\":[],\n",
    "                         \"Year\":[] })\n"
   ]
  },
  {
   "cell_type": "markdown",
   "id": "e0e1c20c",
   "metadata": {},
   "source": [
    "#### 10.1 Write A Pandas Function which can Give the output as Year Vise Run "
   ]
  },
  {
   "cell_type": "code",
   "execution_count": 26,
   "id": "28a902ea",
   "metadata": {},
   "outputs": [
    {
     "name": "stdout",
     "output_type": "stream",
     "text": [
      "<class 'pandas.core.frame.DataFrame'>\n",
      "RangeIndex: 0 entries\n",
      "Data columns (total 4 columns):\n",
      " #   Column                 Non-Null Count  Dtype  \n",
      "---  ------                 --------------  -----  \n",
      " 0   Team Name              0 non-null      float64\n",
      " 1   Team Captain name      0 non-null      float64\n",
      " 2   Total Run by The Team  0 non-null      float64\n",
      " 3   Year                   0 non-null      float64\n",
      "dtypes: float64(4)\n",
      "memory usage: 62.0 bytes\n"
     ]
    }
   ],
   "source": [
    "DataFrame.info()"
   ]
  },
  {
   "cell_type": "code",
   "execution_count": 27,
   "id": "4f8a1341",
   "metadata": {},
   "outputs": [
    {
     "data": {
      "text/plain": [
       "Series([], Name: Year, dtype: float64)"
      ]
     },
     "execution_count": 27,
     "metadata": {},
     "output_type": "execute_result"
    }
   ],
   "source": [
    "DataFrame[\"Year\"]"
   ]
  },
  {
   "cell_type": "markdown",
   "id": "12a91fe0",
   "metadata": {},
   "source": [
    "#### 10.2 Write A Pandas Function which can Give the output as Year Vise Average Run"
   ]
  },
  {
   "cell_type": "code",
   "execution_count": 29,
   "id": "9d2cc11a",
   "metadata": {},
   "outputs": [],
   "source": [
    "def AVG():\n",
    "    x = DataFrame[\"Total Run by The Team\"].mean\n",
    "    sorted(\"Year\")"
   ]
  },
  {
   "cell_type": "markdown",
   "id": "15b96053",
   "metadata": {},
   "source": [
    "#### 10.3 Write A Pandas Function which can Give the output as Team vise Run"
   ]
  },
  {
   "cell_type": "code",
   "execution_count": null,
   "id": "5f3ec9e2",
   "metadata": {},
   "outputs": [],
   "source": [
    "def T_R(team_name):\n",
    "    for i in DataFrmae:\n",
    "        x = i == DataFrmae[\"Total Run by The Team\"]\n",
    "    print(x)"
   ]
  },
  {
   "cell_type": "markdown",
   "id": "718bf97c",
   "metadata": {},
   "source": [
    "#### 10.4 Write A Pandas Function which can Give the output as Captain Occurs in each team."
   ]
  },
  {
   "cell_type": "code",
   "execution_count": 30,
   "id": "6f0d6ae5",
   "metadata": {},
   "outputs": [],
   "source": [
    "def T_R(Captain_name):\n",
    "    for i in DataFrmae:\n",
    "        x = i == DataFrmae[\"team_name\"]\n",
    "    print(x)"
   ]
  }
 ],
 "metadata": {
  "kernelspec": {
   "display_name": "Python 3 (ipykernel)",
   "language": "python",
   "name": "python3"
  },
  "language_info": {
   "codemirror_mode": {
    "name": "ipython",
    "version": 3
   },
   "file_extension": ".py",
   "mimetype": "text/x-python",
   "name": "python",
   "nbconvert_exporter": "python",
   "pygments_lexer": "ipython3",
   "version": "3.9.12"
  }
 },
 "nbformat": 4,
 "nbformat_minor": 5
}
